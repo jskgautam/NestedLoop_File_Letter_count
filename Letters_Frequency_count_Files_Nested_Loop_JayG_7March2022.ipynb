{
 "cells": [
  {
   "cell_type": "markdown",
   "metadata": {},
   "source": [
    "<b> Author: Jay Gautam, Darmstadt Germany, 7th March 2022."
   ]
  },
  {
   "cell_type": "markdown",
   "metadata": {},
   "source": [
    "# Nested Loop & conditional statements: Read the content of a file and count the frequency of letters appeared in the text file.\n",
    "1. It reads the content (passage) of file (.txt).\n",
    "2. The programm will count the frequency of the letters in the passages. How many times a letter appears in the text. And print the letter with maximum and minimum number of appearance in the text file.\n",
    "3. The counting will be stored in the dictionary for every letters in english alphabets.\n",
    "4. Guidlines: \n",
    "       i. This code ignore: spaces, numbers, special characters in the text file.\n",
    "       ii. The uppercase and lowercase number considered to be equal while counting the letters. The dictionary will prepared in lowercase.\n",
    "       \n",
    "Standard functions:\n",
    "1. split(): This function returns the list of individual words from the given line/phrsae/passage. \n",
    "    example 1: \"Beautiful program\".split() - It returns ['Beautiful', 'program']. => It will split at space between words\n",
    "    example 2: \"Beautiful, program\".split(\",\") - It returns ['Beautiful', 'program']. => It will split at coma between words\n",
    "2. .isalpha() : In the sentences there are characters, spaces, numbers and special characters. This function checks whether the charatcter (or string of length 1) is alphabetical or not. Returns True if alphabets, otherwise False. example: \"a\".isalpha() -> True. \"@\".isalpha() ->  False.\n",
    "3. .lower() : it converts the whole string into the lowercase. Example- \"PyThon\".lower()-> 'python'\n",
    "4. pprint() -> pretty-print. It prints the data structure in an user friendly format. It will print the dictionary vertically instead horizontal. Its just for better visualization purpose.\n",
    "    install: import pprint\n",
    "       \n",
    "Execution Instruction:\n",
    "1. Place your own text file in the same folder where your jupyter ot python is present. Or paste your content in the text file available on my github. or just run by default. The exacat name of the text file must be named in jupyter/python file.\n"
   ]
  },
  {
   "cell_type": "code",
   "execution_count": 12,
   "metadata": {
    "scrolled": false
   },
   "outputs": [
    {
     "name": "stdout",
     "output_type": "stream",
     "text": [
      "The letter with highest number of appearance in the text file:  e\n",
      "The letter with lowest number of appearance in the text file:  v\n",
      "\n",
      "The frequency of the english alphabets, in the uploaded text file, are as follows:\n",
      "\n",
      "Letters: Number of appearances\n",
      "{'a': 61,\n",
      " 'b': 12,\n",
      " 'c': 19,\n",
      " 'd': 17,\n",
      " 'e': 92,\n",
      " 'f': 10,\n",
      " 'g': 17,\n",
      " 'h': 31,\n",
      " 'i': 37,\n",
      " 'k': 5,\n",
      " 'l': 33,\n",
      " 'm': 16,\n",
      " 'n': 41,\n",
      " 'o': 59,\n",
      " 'p': 11,\n",
      " 'r': 47,\n",
      " 's': 31,\n",
      " 't': 62,\n",
      " 'u': 26,\n",
      " 'v': 3,\n",
      " 'w': 8,\n",
      " 'y': 38}\n"
     ]
    }
   ],
   "source": [
    "import pprint as pp\n",
    "frequency_of_chars = {} # Initial Empty Dictionary to stors the frquency of each english alphabets.\n",
    "# open the file -> read -> count the letters\n",
    "with open(\"File_To_Count_Letters.txt\", \"r\") as file: # open the file in read mode, we are not going to modify the file.\n",
    "    for line in file: # for each line in the file.\n",
    "        for word in line.split(): # for each word in a line.\n",
    "            for char in word: # for each character.\n",
    "                if char.isalpha(): # check whether alphabet or not.\n",
    "                    if char.lower() in frequency_of_chars: # check whether this loweredcase-character is already present in the dict. It will check by keys (not by values)\n",
    "                        frequency_of_chars[char.lower()] += 1 # increase the count of this character.\n",
    "                    else:\n",
    "                        frequency_of_chars[char.lower()] = 1 # Include this character (as key) if it is not already in the dict.\n",
    "\n",
    "max_frequency_char = max(frequency_of_chars, key = frequency_of_chars.get)# It will find out the key with max value in the dictionary\n",
    "min_frequency_char = min(frequency_of_chars, key = frequency_of_chars.get)# It will find out the key with min value in the dictionary\n",
    "\n",
    "print(\"The letter with highest number of appearance in the text file: \", max_frequency_char)\n",
    "print(\"The letter with lowest number of appearance in the text file: \", min_frequency_char) \n",
    "\n",
    "print()\n",
    "print(\"The frequency of the english alphabets, in the uploaded text file, are as follows:\\n\\nLetters: Number of appearances\")\n",
    "pp.pprint(frequency_of_chars)    "
   ]
  },
  {
   "cell_type": "code",
   "execution_count": null,
   "metadata": {},
   "outputs": [],
   "source": []
  }
 ],
 "metadata": {
  "kernelspec": {
   "display_name": "Python 3",
   "language": "python",
   "name": "python3"
  },
  "language_info": {
   "codemirror_mode": {
    "name": "ipython",
    "version": 3
   },
   "file_extension": ".py",
   "mimetype": "text/x-python",
   "name": "python",
   "nbconvert_exporter": "python",
   "pygments_lexer": "ipython3",
   "version": "3.8.3"
  },
  "toc": {
   "base_numbering": 1,
   "nav_menu": {},
   "number_sections": true,
   "sideBar": true,
   "skip_h1_title": false,
   "title_cell": "Table of Contents",
   "title_sidebar": "Contents",
   "toc_cell": false,
   "toc_position": {},
   "toc_section_display": true,
   "toc_window_display": false
  }
 },
 "nbformat": 4,
 "nbformat_minor": 4
}
